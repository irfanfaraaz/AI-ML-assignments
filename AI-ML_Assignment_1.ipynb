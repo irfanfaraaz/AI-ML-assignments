{
  "nbformat": 4,
  "nbformat_minor": 0,
  "metadata": {
    "colab": {
      "provenance": [],
      "authorship_tag": "ABX9TyPWu9QIXZweiBilu1yiI0aC",
      "include_colab_link": true
    },
    "kernelspec": {
      "name": "python3",
      "display_name": "Python 3"
    },
    "language_info": {
      "name": "python"
    }
  },
  "cells": [
    {
      "cell_type": "markdown",
      "metadata": {
        "id": "view-in-github",
        "colab_type": "text"
      },
      "source": [
        "<a href=\"https://colab.research.google.com/github/irfanfaraaz/AI-ML-assignments/blob/main/AI-ML_Assignment_1.ipynb\" target=\"_parent\"><img src=\"https://colab.research.google.com/assets/colab-badge.svg\" alt=\"Open In Colab\"/></a>"
      ]
    },
    {
      "cell_type": "code",
      "execution_count": 1,
      "metadata": {
        "id": "W8sQ0Sm2mUWl"
      },
      "outputs": [],
      "source": [
        "import pandas as pd\n",
        "import numpy as np\n",
        "\n",
        "# Task 1: Create a pandas DataFrame\n",
        "data = {\n",
        "    'Feature1': np.random.rand(10),\n",
        "    'Feature2': np.random.randint(1, 100, 10),\n",
        "    'Feature3': np.random.choice(['A', 'B', 'C'], 10),\n",
        "    'Feature4': np.random.randn(10),\n",
        "    'Feature5': np.random.choice([True, False], 10)\n",
        "}\n",
        "\n",
        "df = pd.DataFrame(data)"
      ]
    },
    {
      "cell_type": "code",
      "source": [
        "print(df)"
      ],
      "metadata": {
        "colab": {
          "base_uri": "https://localhost:8080/"
        },
        "id": "gCn1-fkemc3Z",
        "outputId": "a0f2d5c5-a402-4a58-9a4f-5c1eef401983"
      },
      "execution_count": 2,
      "outputs": [
        {
          "output_type": "stream",
          "name": "stdout",
          "text": [
            "   Feature1  Feature2 Feature3  Feature4  Feature5\n",
            "0  0.050642        75        B  0.805092     False\n",
            "1  0.056307         7        B  0.106882      True\n",
            "2  0.208607        71        B -2.080293      True\n",
            "3  0.319826        94        C  0.960216      True\n",
            "4  0.462454        74        C  0.214337     False\n",
            "5  0.998844         4        A  0.517586      True\n",
            "6  0.611786        42        C -0.113342     False\n",
            "7  0.283552        20        A  0.932221     False\n",
            "8  0.454257        32        B  1.585050     False\n",
            "9  0.045073        11        C  0.590463      True\n"
          ]
        }
      ]
    },
    {
      "cell_type": "code",
      "source": [
        "# Task 2: Check the info of 'df'\n",
        "print(\"Task 2:\")\n",
        "print(df.info())"
      ],
      "metadata": {
        "colab": {
          "base_uri": "https://localhost:8080/"
        },
        "id": "zvlptKS7nLD6",
        "outputId": "23d9ef3b-675a-4089-8c8c-9e45523e4c64"
      },
      "execution_count": 7,
      "outputs": [
        {
          "output_type": "stream",
          "name": "stdout",
          "text": [
            "Task 2:\n",
            "<class 'pandas.core.frame.DataFrame'>\n",
            "RangeIndex: 10 entries, 0 to 9\n",
            "Data columns (total 5 columns):\n",
            " #   Column    Non-Null Count  Dtype  \n",
            "---  ------    --------------  -----  \n",
            " 0   Feature1  10 non-null     float64\n",
            " 1   Feature2  10 non-null     int64  \n",
            " 2   Feature3  10 non-null     object \n",
            " 3   Feature4  10 non-null     float64\n",
            " 4   Feature5  10 non-null     bool   \n",
            "dtypes: bool(1), float64(2), int64(1), object(1)\n",
            "memory usage: 458.0+ bytes\n",
            "None\n"
          ]
        }
      ]
    },
    {
      "cell_type": "code",
      "source": [
        "# Task 3: Check the descriptive statistics of 'df'\n",
        "print(\"Task 3:\")\n",
        "print(df.describe())"
      ],
      "metadata": {
        "colab": {
          "base_uri": "https://localhost:8080/"
        },
        "id": "2j_K6IrlnO0B",
        "outputId": "8b62f58d-2ee3-4a54-b6ba-4c0d42695bb7"
      },
      "execution_count": 4,
      "outputs": [
        {
          "output_type": "stream",
          "name": "stdout",
          "text": [
            "\n",
            "Task 3:\n",
            "        Feature1   Feature2   Feature4\n",
            "count  10.000000  10.000000  10.000000\n",
            "mean    0.349135  43.000000   0.351821\n",
            "std     0.299482  33.102534   0.984784\n",
            "min     0.045073   4.000000  -2.080293\n",
            "25%     0.094382  13.250000   0.133746\n",
            "50%     0.301689  37.000000   0.554025\n",
            "75%     0.460405  73.250000   0.900439\n",
            "max     0.998844  94.000000   1.585050\n"
          ]
        }
      ]
    },
    {
      "cell_type": "code",
      "source": [
        "# Task 4: Check the 4th index observation with 'loc' slicing operator\n",
        "print(\"Task 4:\")\n",
        "print(df.loc[4])"
      ],
      "metadata": {
        "colab": {
          "base_uri": "https://localhost:8080/"
        },
        "id": "5MPzWRXYnccK",
        "outputId": "acc20261-bf5b-427e-ea8b-412051f38519"
      },
      "execution_count": 5,
      "outputs": [
        {
          "output_type": "stream",
          "name": "stdout",
          "text": [
            "Task 4:\n",
            "Feature1    0.462454\n",
            "Feature2          74\n",
            "Feature3           C\n",
            "Feature4    0.214337\n",
            "Feature5       False\n",
            "Name: 4, dtype: object\n"
          ]
        }
      ]
    },
    {
      "cell_type": "code",
      "source": [
        "# Task 5: Check the null values in 'df'\n",
        "print(\"Task 5:\")\n",
        "print(df.isnull().sum())"
      ],
      "metadata": {
        "colab": {
          "base_uri": "https://localhost:8080/"
        },
        "id": "-wuCtNbtnuI8",
        "outputId": "a2b13fd7-19cf-4c75-ad93-af8cdd34efa8"
      },
      "execution_count": 6,
      "outputs": [
        {
          "output_type": "stream",
          "name": "stdout",
          "text": [
            "Task 5:\n",
            "Feature1    0\n",
            "Feature2    0\n",
            "Feature3    0\n",
            "Feature4    0\n",
            "Feature5    0\n",
            "dtype: int64\n"
          ]
        }
      ]
    }
  ]
}